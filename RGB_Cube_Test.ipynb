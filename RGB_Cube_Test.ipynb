{
 "cells": [
  {
   "cell_type": "code",
   "execution_count": 1,
   "metadata": {},
   "outputs": [],
   "source": [
    "from astropy.io import fits # ASTROPY VERSION 5.3.4, VERSION 6.0.0 CRASHES APLPY\n",
    "import aplpy # APLPY VERSION 2.1.0"
   ]
  },
  {
   "cell_type": "code",
   "execution_count": 2,
   "metadata": {},
   "outputs": [
    {
     "name": "stdout",
     "output_type": "stream",
     "text": [
      "Filename: Blue.fits\n",
      "No.    Name      Ver    Type      Cards   Dimensions   Format\n",
      "  0  STOKES I      1 PrimaryHDU     713   (526, 523)   float64   \n",
      "Filename: Blue.fits\n",
      "No.    Name      Ver    Type      Cards   Dimensions   Format\n",
      "  0  STOKES I      1 PrimaryHDU     713   (526, 523)   float64   \n",
      "Filename: Blue.fits\n",
      "No.    Name      Ver    Type      Cards   Dimensions   Format\n",
      "  0  STOKES I      1 PrimaryHDU     713   (526, 523)   float64   \n"
     ]
    }
   ],
   "source": [
    "# Checking the structure of the color fits files\n",
    "Red = fits.open('Blue.fits')\n",
    "Red.info()\n",
    "Red.close()\n",
    "Green = fits.open('Blue.fits')\n",
    "Green.info()\n",
    "Green.close()\n",
    "Blue = fits.open('Blue.fits')\n",
    "Blue.info()\n",
    "Blue.close()"
   ]
  },
  {
   "cell_type": "code",
   "execution_count": 3,
   "metadata": {},
   "outputs": [
    {
     "name": "stdout",
     "output_type": "stream",
     "text": [
      "INFO: Red: [aplpy.rgb]\n",
      "INFO: vmin = -3.414e-03 (auto) [aplpy.rgb]\n",
      "INFO: vmax =  1.777e+01 (auto) [aplpy.rgb]\n",
      "INFO: Green: [aplpy.rgb]\n",
      "INFO: vmin =  6.316e-04 (auto) [aplpy.rgb]\n",
      "INFO: vmax =  3.917e-01 (auto) [aplpy.rgb]\n",
      "INFO: Blue: [aplpy.rgb]\n",
      "INFO: vmin = -5.314e-03 (auto) [aplpy.rgb]\n",
      "INFO: vmax =  1.400e+01 (auto) [aplpy.rgb]\n"
     ]
    }
   ],
   "source": [
    "# Creating the RGB\n",
    "RGB_Cube = aplpy.make_rgb_cube(['Red.fits','Green.fits','Blue.fits'],'ngc2024_RGB.fits')\n",
    "# Creating the final RGB image\n",
    "RGB_Plot = aplpy.make_rgb_image('ngc2024_RGB.fits', 'NGC2024_RGB.png')"
   ]
  }
 ],
 "metadata": {
  "kernelspec": {
   "display_name": "PoLiteWIP",
   "language": "python",
   "name": "python3"
  },
  "language_info": {
   "codemirror_mode": {
    "name": "ipython",
    "version": 3
   },
   "file_extension": ".py",
   "mimetype": "text/x-python",
   "name": "python",
   "nbconvert_exporter": "python",
   "pygments_lexer": "ipython3",
   "version": "3.10.8"
  }
 },
 "nbformat": 4,
 "nbformat_minor": 2
}
